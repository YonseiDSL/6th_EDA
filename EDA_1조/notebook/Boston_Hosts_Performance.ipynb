{
  "nbformat": 4,
  "nbformat_minor": 0,
  "metadata": {
    "colab": {
      "name": "Boston Hosts Performance.ipynb",
      "provenance": []
    },
    "kernelspec": {
      "name": "python3",
      "display_name": "Python 3"
    },
    "language_info": {
      "name": "python"
    }
  },
  "cells": [
    {
      "cell_type": "markdown",
      "metadata": {
        "id": "dgQ1Y26wDmVB"
      },
      "source": [
        "초기 세팅"
      ]
    },
    {
      "cell_type": "code",
      "metadata": {
        "colab": {
          "base_uri": "https://localhost:8080/"
        },
        "id": "Xyw0NSj1Dfe1",
        "outputId": "1d320043-2400-46fd-be4f-d4911ca2d773"
      },
      "source": [
        "pip install haversine"
      ],
      "execution_count": null,
      "outputs": [
        {
          "output_type": "stream",
          "text": [
            "Requirement already satisfied: haversine in /usr/local/lib/python3.7/dist-packages (2.3.1)\n"
          ],
          "name": "stdout"
        }
      ]
    },
    {
      "cell_type": "code",
      "metadata": {
        "colab": {
          "base_uri": "https://localhost:8080/",
          "height": 17
        },
        "id": "Ell0_MkmDl5e",
        "outputId": "13aa6e29-473e-4b17-9515-e4a8a6e79ade"
      },
      "source": [
        "import numpy as np\n",
        "import pandas as pd\n",
        "import datetime\n",
        "import matplotlib as mpl         \n",
        "import matplotlib.pyplot as plt \n",
        "import seaborn as sns\n",
        "from haversine import haversine\n",
        "# Some helper functions to make our plots cleaner with Plotly\n",
        "import plotly.graph_objs as go\n",
        "from plotly.offline import init_notebook_mode, iplot\n",
        "from plotly import tools\n",
        "init_notebook_mode(connected=True)"
      ],
      "execution_count": null,
      "outputs": [
        {
          "output_type": "display_data",
          "data": {
            "text/html": [
              "        <script type=\"text/javascript\">\n",
              "        window.PlotlyConfig = {MathJaxConfig: 'local'};\n",
              "        if (window.MathJax) {MathJax.Hub.Config({SVG: {font: \"STIX-Web\"}});}\n",
              "        if (typeof require !== 'undefined') {\n",
              "        require.undef(\"plotly\");\n",
              "        requirejs.config({\n",
              "            paths: {\n",
              "                'plotly': ['https://cdn.plot.ly/plotly-latest.min']\n",
              "            }\n",
              "        });\n",
              "        require(['plotly'], function(Plotly) {\n",
              "            window._Plotly = Plotly;\n",
              "        });\n",
              "        }\n",
              "        </script>\n",
              "        "
            ]
          },
          "metadata": {
            "tags": []
          }
        }
      ]
    },
    {
      "cell_type": "code",
      "metadata": {
        "colab": {
          "base_uri": "https://localhost:8080/"
        },
        "id": "d6be5jqMDpH7",
        "outputId": "ec691a36-e585-4da5-a7e7-06d581c1d265"
      },
      "source": [
        "from google.colab import drive\n",
        "drive.mount('/content/gdrive')"
      ],
      "execution_count": null,
      "outputs": [
        {
          "output_type": "stream",
          "text": [
            "Drive already mounted at /content/gdrive; to attempt to forcibly remount, call drive.mount(\"/content/gdrive\", force_remount=True).\n"
          ],
          "name": "stdout"
        }
      ]
    },
    {
      "cell_type": "code",
      "metadata": {
        "colab": {
          "base_uri": "https://localhost:8080/"
        },
        "id": "xv1L6vl2ER1D",
        "outputId": "fd2df459-4e1c-4cba-e5e6-e6980497992b"
      },
      "source": [
        "df_Boston = pd.read_csv(\"/content/gdrive/My Drive/Colab Notebooks/df_Boston.csv\")\n",
        "len(df_Boston)"
      ],
      "execution_count": null,
      "outputs": [
        {
          "output_type": "execute_result",
          "data": {
            "text/plain": [
              "3468"
            ]
          },
          "metadata": {
            "tags": []
          },
          "execution_count": 4
        }
      ]
    },
    {
      "cell_type": "markdown",
      "metadata": {
        "id": "7T-82krKEXUc"
      },
      "source": [
        "리뷰 수나 리뷰 Rating이 없는 데이터 삭제"
      ]
    },
    {
      "cell_type": "code",
      "metadata": {
        "colab": {
          "base_uri": "https://localhost:8080/"
        },
        "id": "7sRJtabTEcxy",
        "outputId": "f40fb385-0880-4a10-fef8-ec4ff8651f3d"
      },
      "source": [
        "df_Boston = df_Boston[df_Boston.number_of_reviews.notnull()]\n",
        "df_Boston = df_Boston[df_Boston.review_scores_rating.notnull()]\n",
        "len(df_Boston.index)"
      ],
      "execution_count": null,
      "outputs": [
        {
          "output_type": "execute_result",
          "data": {
            "text/plain": [
              "2820"
            ]
          },
          "metadata": {
            "tags": []
          },
          "execution_count": 5
        }
      ]
    },
    {
      "cell_type": "code",
      "metadata": {
        "colab": {
          "base_uri": "https://localhost:8080/"
        },
        "id": "vTxVkkEiFX8m",
        "outputId": "00ffdd0e-e2a1-46ee-b844-a434681abdf1"
      },
      "source": [
        "df_Boston['number_of_reviews'].isnull().values.any()\n",
        "df_Boston['review_scores_rating'].isnull().values.any()"
      ],
      "execution_count": null,
      "outputs": [
        {
          "output_type": "execute_result",
          "data": {
            "text/plain": [
              "False"
            ]
          },
          "metadata": {
            "tags": []
          },
          "execution_count": 6
        }
      ]
    },
    {
      "cell_type": "markdown",
      "metadata": {
        "id": "1wOcAeemD2b7"
      },
      "source": [
        "바운더리 설정"
      ]
    },
    {
      "cell_type": "code",
      "metadata": {
        "id": "lUi-hAe5D1j1"
      },
      "source": [
        "def haversine_trial_2(lat1, lon1, lat2, lon2):\n",
        "   r = 6371\n",
        "   phi1 = np.radians(lat1)\n",
        "   phi2 = np.radians(lat2)\n",
        "   delta_phi = np.radians(lat2 - lat1)\n",
        "   delta_lambda = np.radians(lon2 - lon1)\n",
        "   a = np.sin(delta_phi / 2)**2 + np.cos(phi1) * np.cos(phi2) *   np.sin(delta_lambda / 2)**2\n",
        "   res = r * (2 * np.arctan2(np.sqrt(a), np.sqrt(1 - a)))\n",
        "   return np.round(res, 2)"
      ],
      "execution_count": null,
      "outputs": []
    },
    {
      "cell_type": "code",
      "metadata": {
        "id": "uWPb-0oKEBLG"
      },
      "source": [
        "df_Boston['Distance_to_South'] = haversine_trial_2(df_Boston['latitude'],df_Boston['longitude'],42.352035,-71.055182)\n",
        "df_Boston['Distance_to_Fenway'] = haversine_trial_2(df_Boston['latitude'],df_Boston['longitude'],42.346268,-71.095764)"
      ],
      "execution_count": null,
      "outputs": []
    },
    {
      "cell_type": "markdown",
      "metadata": {
        "id": "5NW87TIGHFpr"
      },
      "source": [
        "Performace Score 계산"
      ]
    },
    {
      "cell_type": "code",
      "metadata": {
        "id": "TFcG0XrxHFaD"
      },
      "source": [
        "df_Boston['Performance_Score'] = (df_Boston['number_of_reviews']*df_Boston['review_scores_rating'])/100"
      ],
      "execution_count": null,
      "outputs": []
    },
    {
      "cell_type": "markdown",
      "metadata": {
        "id": "-E7EW9GxKo3f"
      },
      "source": [
        "Performance Score 분포 계산 & 시각화"
      ]
    },
    {
      "cell_type": "code",
      "metadata": {
        "colab": {
          "base_uri": "https://localhost:8080/"
        },
        "id": "TAgEKBh8Kr8w",
        "outputId": "63420ed7-3511-4970-d617-3d449789b464"
      },
      "source": [
        "df_Boston['Performance_Score'].describe(percentiles=[0.25,0.75])\n",
        "#707개 각각"
      ],
      "execution_count": null,
      "outputs": [
        {
          "output_type": "execute_result",
          "data": {
            "text/plain": [
              "count    2820.000000\n",
              "mean       29.646177\n",
              "std        45.131118\n",
              "min         0.200000\n",
              "25%         3.400000\n",
              "50%        11.420000\n",
              "75%        36.295000\n",
              "max       351.540000\n",
              "Name: Performance_Score, dtype: float64"
            ]
          },
          "metadata": {
            "tags": []
          },
          "execution_count": 10
        }
      ]
    },
    {
      "cell_type": "code",
      "metadata": {
        "colab": {
          "base_uri": "https://localhost:8080/",
          "height": 304
        },
        "id": "DMeB81IsRUoc",
        "outputId": "5e686729-435d-4866-eaeb-81aaee868d40"
      },
      "source": [
        "def rangeScore(x):\n",
        "    '''\n",
        "    Set the bins for the score-range.\n",
        "    '''\n",
        "    value = ''\n",
        "    if (x>= 0 and x < 10):\n",
        "        value = '0-10'\n",
        "    elif (x>= 10 and x < 20):\n",
        "        value = '10-20'\n",
        "    elif (x>= 20 and x < 30):\n",
        "        value = '20-30'\n",
        "    elif (x>= 30.0 and x < 40.0):\n",
        "        value = '30-40'\n",
        "    elif (x>= 40 and x < 50):\n",
        "        value = '40-50'\n",
        "    elif (x>= 50 and x < 60):\n",
        "        value = '50-60'\n",
        "    elif (x>= 60 and x < 70):\n",
        "        value = '60-70'        \n",
        "    elif (x>= 70 and x < 80):\n",
        "        value = '70-80'\n",
        "    elif (x>= 80 and x < 90):\n",
        "        value = '80-90'\n",
        "    elif (x>= 90 and x < 100):\n",
        "        value = '90-100'\n",
        "    elif x>= 100:\n",
        "        value = '100+'\n",
        "        \n",
        "    return value\n",
        "\n",
        "df_Boston['score_ranges'] = df_Boston['Performance_Score'].apply(rangeScore)\n",
        "df_by_group2 = df_Boston.groupby(['score_ranges']).size().plot(kind = \"bar\")"
      ],
      "execution_count": null,
      "outputs": [
        {
          "output_type": "display_data",
          "data": {
            "image/png": "[encoded data removed]",
            "text/plain": [
              "<Figure size 432x288 with 1 Axes>"
            ]
          },
          "metadata": {
            "tags": [],
            "needs_background": "light"
          }
        }
      ]
    },
    {
      "cell_type": "code",
      "metadata": {
        "colab": {
          "base_uri": "https://localhost:8080/",
          "height": 368
        },
        "id": "-Ul1v4V2IGbC",
        "outputId": "56a0fa17-de1c-4fc8-f3ec-982e7f0f532d"
      },
      "source": [
        "plt.figure()\n",
        "sns.distplot(df_Boston['Performance_Score'])"
      ],
      "execution_count": null,
      "outputs": [
        {
          "output_type": "stream",
          "text": [
            "/usr/local/lib/python3.7/dist-packages/seaborn/distributions.py:2557: FutureWarning:\n",
            "\n",
            "`distplot` is a deprecated function and will be removed in a future version. Please adapt your code to use either `displot` (a figure-level function with similar flexibility) or `histplot` (an axes-level function for histograms).\n",
            "\n"
          ],
          "name": "stderr"
        },
        {
          "output_type": "execute_result",
          "data": {
            "text/plain": [
              "<matplotlib.axes._subplots.AxesSubplot at 0x7ff241b05990>"
            ]
          },
          "metadata": {
            "tags": []
          },
          "execution_count": 12
        },
        {
          "output_type": "display_data",
          "data": {
            "image/png": "[encoded data removed]",
            "text/plain": [
              "<Figure size 432x288 with 1 Axes>"
            ]
          },
          "metadata": {
            "tags": [],
            "needs_background": "light"
          }
        }
      ]
    },
    {
      "cell_type": "markdown",
      "metadata": {
        "id": "Sp7Q1ndhZB8Y"
      },
      "source": [
        "Performance 결정하는 변수들"
      ]
    },
    {
      "cell_type": "code",
      "metadata": {
        "colab": {
          "base_uri": "https://localhost:8080/",
          "height": 795
        },
        "id": "FHMdcU_XZBYr",
        "outputId": "eb281bf7-ef92-40c0-81be-55260a6ecf70"
      },
      "source": [
        "# 제외할 변수들\n",
        "df_Boston.drop(['log_price','property_type','room_type','accommodates','bathrooms','bed_type','zipcode','bedrooms','beds'], axis=1, inplace=True)\n",
        "df_Boston"
      ],
      "execution_count": null,
      "outputs": [
        {
          "output_type": "execute_result",
          "data": {
            "text/html": [
              "<div>\n",
              "<style scoped>\n",
              "    .dataframe tbody tr th:only-of-type {\n",
              "        vertical-align: middle;\n",
              "    }\n",
              "\n",
              "    .dataframe tbody tr th {\n",
              "        vertical-align: top;\n",
              "    }\n",
              "\n",
              "    .dataframe thead th {\n",
              "        text-align: right;\n",
              "    }\n",
              "</style>\n",
              "<table border=\"1\" class=\"dataframe\">\n",
              "  <thead>\n",
              "    <tr style=\"text-align: right;\">\n",
              "      <th></th>\n",
              "      <th>Unnamed: 0</th>\n",
              "      <th>id</th>\n",
              "      <th>amenities</th>\n",
              "      <th>cancellation_policy</th>\n",
              "      <th>cleaning_fee</th>\n",
              "      <th>city</th>\n",
              "      <th>description</th>\n",
              "      <th>first_review</th>\n",
              "      <th>host_has_profile_pic</th>\n",
              "      <th>host_identity_verified</th>\n",
              "      <th>host_response_rate</th>\n",
              "      <th>instant_bookable</th>\n",
              "      <th>latitude</th>\n",
              "      <th>longitude</th>\n",
              "      <th>name</th>\n",
              "      <th>neighbourhood</th>\n",
              "      <th>number_of_reviews</th>\n",
              "      <th>review_scores_rating</th>\n",
              "      <th>thumbnail_url</th>\n",
              "      <th>Distance_to_South</th>\n",
              "      <th>Distance_to_Fenway</th>\n",
              "      <th>Performance_Score</th>\n",
              "      <th>score_ranges</th>\n",
              "    </tr>\n",
              "  </thead>\n",
              "  <tbody>\n",
              "    <tr>\n",
              "      <th>0</th>\n",
              "      <td>17</td>\n",
              "      <td>14648556</td>\n",
              "      <td>{Internet,\"Wireless Internet\",\"Air conditionin...</td>\n",
              "      <td>strict</td>\n",
              "      <td>True</td>\n",
              "      <td>Boston</td>\n",
              "      <td>This is a nice duplex in a good location.Recen...</td>\n",
              "      <td>2016-07-16</td>\n",
              "      <td>t</td>\n",
              "      <td>t</td>\n",
              "      <td>100%</td>\n",
              "      <td>f</td>\n",
              "      <td>42.339194</td>\n",
              "      <td>-71.049672</td>\n",
              "      <td>Comfy room (C) near T, convention center, down...</td>\n",
              "      <td>South Boston</td>\n",
              "      <td>12</td>\n",
              "      <td>88.0</td>\n",
              "      <td>https://a0.muscache.com/im/pictures/176088bb-3...</td>\n",
              "      <td>1.50</td>\n",
              "      <td>3.87</td>\n",
              "      <td>10.56</td>\n",
              "      <td>10-20</td>\n",
              "    </tr>\n",
              "    <tr>\n",
              "      <th>1</th>\n",
              "      <td>39</td>\n",
              "      <td>4680055</td>\n",
              "      <td>{TV,Internet,\"Wireless Internet\",\"Air conditio...</td>\n",
              "      <td>strict</td>\n",
              "      <td>True</td>\n",
              "      <td>Boston</td>\n",
              "      <td>Tourists/Conference-goers great choice! Privat...</td>\n",
              "      <td>2020-03-16</td>\n",
              "      <td>t</td>\n",
              "      <td>t</td>\n",
              "      <td>100%</td>\n",
              "      <td>t</td>\n",
              "      <td>42.330628</td>\n",
              "      <td>-71.053148</td>\n",
              "      <td>Private Bedroom Close To Downtown/Subway Red line</td>\n",
              "      <td>South Boston</td>\n",
              "      <td>40</td>\n",
              "      <td>96.0</td>\n",
              "      <td>https://a0.muscache.com/im/pictures/aad0eaa7-a...</td>\n",
              "      <td>2.39</td>\n",
              "      <td>3.91</td>\n",
              "      <td>38.40</td>\n",
              "      <td>30-40</td>\n",
              "    </tr>\n",
              "    <tr>\n",
              "      <th>2</th>\n",
              "      <td>60</td>\n",
              "      <td>4274462</td>\n",
              "      <td>{TV,\"Wireless Internet\",\"Air conditioning\",Kit...</td>\n",
              "      <td>strict</td>\n",
              "      <td>True</td>\n",
              "      <td>Boston</td>\n",
              "      <td>An Entire 2 bedroom, 600sqft, apartment w/ 4 t...</td>\n",
              "      <td>2014-09-17</td>\n",
              "      <td>t</td>\n",
              "      <td>t</td>\n",
              "      <td>100%</td>\n",
              "      <td>f</td>\n",
              "      <td>42.336007</td>\n",
              "      <td>-71.052918</td>\n",
              "      <td>**NEW*Downtown/Convention/Subway/Beach C130</td>\n",
              "      <td>South Boston</td>\n",
              "      <td>5</td>\n",
              "      <td>100.0</td>\n",
              "      <td>https://a0.muscache.com/im/pictures/3d35ea0b-e...</td>\n",
              "      <td>1.79</td>\n",
              "      <td>3.70</td>\n",
              "      <td>5.00</td>\n",
              "      <td>0-10</td>\n",
              "    </tr>\n",
              "    <tr>\n",
              "      <th>4</th>\n",
              "      <td>134</td>\n",
              "      <td>16253186</td>\n",
              "      <td>{TV,\"Wireless Internet\",Kitchen,\"Family/kid fr...</td>\n",
              "      <td>flexible</td>\n",
              "      <td>False</td>\n",
              "      <td>Boston</td>\n",
              "      <td>Nicely decorated comfortable 1 bedroom in very...</td>\n",
              "      <td>2021-05-17</td>\n",
              "      <td>t</td>\n",
              "      <td>f</td>\n",
              "      <td>NaN</td>\n",
              "      <td>t</td>\n",
              "      <td>42.357198</td>\n",
              "      <td>-71.071588</td>\n",
              "      <td>Clean upscale apt and location</td>\n",
              "      <td>Beacon Hill</td>\n",
              "      <td>2</td>\n",
              "      <td>80.0</td>\n",
              "      <td>https://a0.muscache.com/im/pictures/9bf5ae4c-f...</td>\n",
              "      <td>1.47</td>\n",
              "      <td>2.33</td>\n",
              "      <td>1.60</td>\n",
              "      <td>0-10</td>\n",
              "    </tr>\n",
              "    <tr>\n",
              "      <th>5</th>\n",
              "      <td>150</td>\n",
              "      <td>14916417</td>\n",
              "      <td>{\"Wireless Internet\",\"Air conditioning\",Kitche...</td>\n",
              "      <td>flexible</td>\n",
              "      <td>False</td>\n",
              "      <td>Boston</td>\n",
              "      <td>1br in 2bhk available just 20 minutes walk fro...</td>\n",
              "      <td>2001-09-17</td>\n",
              "      <td>t</td>\n",
              "      <td>f</td>\n",
              "      <td>100%</td>\n",
              "      <td>f</td>\n",
              "      <td>42.332122</td>\n",
              "      <td>-71.112803</td>\n",
              "      <td>1br in 2bhk furnished</td>\n",
              "      <td>Mission Hill</td>\n",
              "      <td>1</td>\n",
              "      <td>100.0</td>\n",
              "      <td>https://a0.muscache.com/im/pictures/fa57413a-5...</td>\n",
              "      <td>5.23</td>\n",
              "      <td>2.11</td>\n",
              "      <td>1.00</td>\n",
              "      <td>0-10</td>\n",
              "    </tr>\n",
              "    <tr>\n",
              "      <th>...</th>\n",
              "      <td>...</td>\n",
              "      <td>...</td>\n",
              "      <td>...</td>\n",
              "      <td>...</td>\n",
              "      <td>...</td>\n",
              "      <td>...</td>\n",
              "      <td>...</td>\n",
              "      <td>...</td>\n",
              "      <td>...</td>\n",
              "      <td>...</td>\n",
              "      <td>...</td>\n",
              "      <td>...</td>\n",
              "      <td>...</td>\n",
              "      <td>...</td>\n",
              "      <td>...</td>\n",
              "      <td>...</td>\n",
              "      <td>...</td>\n",
              "      <td>...</td>\n",
              "      <td>...</td>\n",
              "      <td>...</td>\n",
              "      <td>...</td>\n",
              "      <td>...</td>\n",
              "      <td>...</td>\n",
              "    </tr>\n",
              "    <tr>\n",
              "      <th>3463</th>\n",
              "      <td>74021</td>\n",
              "      <td>12627709</td>\n",
              "      <td>{TV,Internet,\"Wireless Internet\",\"Air conditio...</td>\n",
              "      <td>moderate</td>\n",
              "      <td>True</td>\n",
              "      <td>Boston</td>\n",
              "      <td>Sun filled city dwelling with 2 great bedrooms...</td>\n",
              "      <td>2028-01-17</td>\n",
              "      <td>t</td>\n",
              "      <td>t</td>\n",
              "      <td>100%</td>\n",
              "      <td>t</td>\n",
              "      <td>42.340983</td>\n",
              "      <td>-71.144400</td>\n",
              "      <td>Industrial dwelling 2BD w/pvt parking</td>\n",
              "      <td>Allston-Brighton</td>\n",
              "      <td>25</td>\n",
              "      <td>95.0</td>\n",
              "      <td>https://a0.muscache.com/im/pictures/78679bb4-6...</td>\n",
              "      <td>7.43</td>\n",
              "      <td>4.04</td>\n",
              "      <td>23.75</td>\n",
              "      <td>20-30</td>\n",
              "    </tr>\n",
              "    <tr>\n",
              "      <th>3464</th>\n",
              "      <td>74042</td>\n",
              "      <td>16274884</td>\n",
              "      <td>{TV,Internet,\"Wireless Internet\",Kitchen,\"Free...</td>\n",
              "      <td>strict</td>\n",
              "      <td>True</td>\n",
              "      <td>Boston</td>\n",
              "      <td>Welcome to the 'ur-burbs'~~!  This Single Fami...</td>\n",
              "      <td>2006-07-16</td>\n",
              "      <td>t</td>\n",
              "      <td>t</td>\n",
              "      <td>100%</td>\n",
              "      <td>f</td>\n",
              "      <td>42.280757</td>\n",
              "      <td>-71.153214</td>\n",
              "      <td>The 1880 House: Historic Single Family Victorian!</td>\n",
              "      <td>West Roxbury</td>\n",
              "      <td>7</td>\n",
              "      <td>100.0</td>\n",
              "      <td>https://a0.muscache.com/im/pictures/4df663bd-f...</td>\n",
              "      <td>11.30</td>\n",
              "      <td>8.68</td>\n",
              "      <td>7.00</td>\n",
              "      <td>0-10</td>\n",
              "    </tr>\n",
              "    <tr>\n",
              "      <th>3465</th>\n",
              "      <td>74068</td>\n",
              "      <td>14043110</td>\n",
              "      <td>{TV,\"Wireless Internet\",\"Air conditioning\",Kit...</td>\n",
              "      <td>flexible</td>\n",
              "      <td>False</td>\n",
              "      <td>Boston</td>\n",
              "      <td>Just a 6 or 7 minute walk from the Stonybrook ...</td>\n",
              "      <td>2028-09-15</td>\n",
              "      <td>t</td>\n",
              "      <td>f</td>\n",
              "      <td>NaN</td>\n",
              "      <td>f</td>\n",
              "      <td>42.319239</td>\n",
              "      <td>-71.106240</td>\n",
              "      <td>Beautiful modern condo near T</td>\n",
              "      <td>Jamaica Plain</td>\n",
              "      <td>5</td>\n",
              "      <td>100.0</td>\n",
              "      <td>https://a0.muscache.com/im/pictures/105313307/...</td>\n",
              "      <td>5.56</td>\n",
              "      <td>3.13</td>\n",
              "      <td>5.00</td>\n",
              "      <td>0-10</td>\n",
              "    </tr>\n",
              "    <tr>\n",
              "      <th>3466</th>\n",
              "      <td>74076</td>\n",
              "      <td>1373456</td>\n",
              "      <td>{\"Wireless Internet\",Kitchen,\"Pets allowed\",El...</td>\n",
              "      <td>strict</td>\n",
              "      <td>True</td>\n",
              "      <td>Boston</td>\n",
              "      <td>The apartment is much more so a *home*, than i...</td>\n",
              "      <td>2015-09-16</td>\n",
              "      <td>t</td>\n",
              "      <td>t</td>\n",
              "      <td>93%</td>\n",
              "      <td>f</td>\n",
              "      <td>42.344962</td>\n",
              "      <td>-71.096733</td>\n",
              "      <td>Fenway appartment, clean &amp; cozy</td>\n",
              "      <td>Fenway/Kenmore</td>\n",
              "      <td>12</td>\n",
              "      <td>98.0</td>\n",
              "      <td>https://a0.muscache.com/im/pictures/50bec3ec-6...</td>\n",
              "      <td>3.50</td>\n",
              "      <td>0.17</td>\n",
              "      <td>11.76</td>\n",
              "      <td>10-20</td>\n",
              "    </tr>\n",
              "    <tr>\n",
              "      <th>3467</th>\n",
              "      <td>74078</td>\n",
              "      <td>11554877</td>\n",
              "      <td>{TV,\"Cable TV\",Internet,\"Wireless Internet\",\"A...</td>\n",
              "      <td>strict</td>\n",
              "      <td>True</td>\n",
              "      <td>Boston</td>\n",
              "      <td>At this Sonder, you'll love the spacious livin...</td>\n",
              "      <td>2007-05-17</td>\n",
              "      <td>t</td>\n",
              "      <td>t</td>\n",
              "      <td>100%</td>\n",
              "      <td>t</td>\n",
              "      <td>42.345597</td>\n",
              "      <td>-71.101188</td>\n",
              "      <td>Mid-Century 1BR in Fenway</td>\n",
              "      <td>Fenway/Kenmore</td>\n",
              "      <td>8</td>\n",
              "      <td>94.0</td>\n",
              "      <td>https://a0.muscache.com/im/pictures/33eff2fe-c...</td>\n",
              "      <td>3.85</td>\n",
              "      <td>0.45</td>\n",
              "      <td>7.52</td>\n",
              "      <td>0-10</td>\n",
              "    </tr>\n",
              "  </tbody>\n",
              "</table>\n",
              "<p>2820 rows × 23 columns</p>\n",
              "</div>"
            ],
            "text/plain": [
              "      Unnamed: 0        id  ... Performance_Score score_ranges\n",
              "0             17  14648556  ...             10.56        10-20\n",
              "1             39   4680055  ...             38.40        30-40\n",
              "2             60   4274462  ...              5.00         0-10\n",
              "4            134  16253186  ...              1.60         0-10\n",
              "5            150  14916417  ...              1.00         0-10\n",
              "...          ...       ...  ...               ...          ...\n",
              "3463       74021  12627709  ...             23.75        20-30\n",
              "3464       74042  16274884  ...              7.00         0-10\n",
              "3465       74068  14043110  ...              5.00         0-10\n",
              "3466       74076   1373456  ...             11.76        10-20\n",
              "3467       74078  11554877  ...              7.52         0-10\n",
              "\n",
              "[2820 rows x 23 columns]"
            ]
          },
          "metadata": {
            "tags": []
          },
          "execution_count": 13
        }
      ]
    },
    {
      "cell_type": "markdown",
      "metadata": {
        "id": "Ovh0wvwiF37H"
      },
      "source": [
        "**South Station** 반경 2km 분석"
      ]
    },
    {
      "cell_type": "code",
      "metadata": {
        "colab": {
          "base_uri": "https://localhost:8080/"
        },
        "id": "jSALIz2VF-Ab",
        "outputId": "c891fd27-15bc-4a49-c43d-6b7f3440f0be"
      },
      "source": [
        "df_Boston_South = df_Boston[df_Boston.Distance_to_South <= 2]\n",
        "len(df_Boston_South)"
      ],
      "execution_count": null,
      "outputs": [
        {
          "output_type": "execute_result",
          "data": {
            "text/plain": [
              "827"
            ]
          },
          "metadata": {
            "tags": []
          },
          "execution_count": 14
        }
      ]
    },
    {
      "cell_type": "code",
      "metadata": {
        "colab": {
          "base_uri": "https://localhost:8080/"
        },
        "id": "Uo8aV0RBd0OB",
        "outputId": "b52cebe7-710e-4132-f872-be55cc343e21"
      },
      "source": [
        "# Amenities\n",
        "df_Boston_South['amenities_count'] = df_Boston_South['amenities'].str.split(',').str.len() #개수에 차이가 있는지?"
      ],
      "execution_count": null,
      "outputs": [
        {
          "output_type": "stream",
          "text": [
            "/usr/local/lib/python3.7/dist-packages/ipykernel_launcher.py:2: SettingWithCopyWarning:\n",
            "\n",
            "\n",
            "A value is trying to be set on a copy of a slice from a DataFrame.\n",
            "Try using .loc[row_indexer,col_indexer] = value instead\n",
            "\n",
            "See the caveats in the documentation: https://pandas.pydata.org/pandas-docs/stable/user_guide/indexing.html#returning-a-view-versus-a-copy\n",
            "\n"
          ],
          "name": "stderr"
        }
      ]
    },
    {
      "cell_type": "code",
      "metadata": {
        "colab": {
          "base_uri": "https://localhost:8080/"
        },
        "id": "jhhucArAdZBJ",
        "outputId": "16fe8ecd-9e2b-4901-9437-1bd8ef524f67"
      },
      "source": [
        "# Percentiles 바운더리 찾기\n",
        "df_Boston_South['Performance_Score'].describe(percentiles=[0.25,0.75])"
      ],
      "execution_count": null,
      "outputs": [
        {
          "output_type": "execute_result",
          "data": {
            "text/plain": [
              "count    827.00000\n",
              "mean      29.87948\n",
              "std       44.15080\n",
              "min        0.20000\n",
              "25%        3.80000\n",
              "50%       11.83000\n",
              "75%       37.86500\n",
              "max      351.54000\n",
              "Name: Performance_Score, dtype: float64"
            ]
          },
          "metadata": {
            "tags": []
          },
          "execution_count": 16
        }
      ]
    },
    {
      "cell_type": "code",
      "metadata": {
        "id": "VYa3VX4Zc7YU"
      },
      "source": [
        "df_Boston_South_Good = df_Boston_South[df_Boston_South.Performance_Score >= 37.865] #207\n",
        "df_Boston_South_Bad = df_Boston_South[df_Boston_South.Performance_Score <= 3.80] #211"
      ],
      "execution_count": null,
      "outputs": []
    },
    {
      "cell_type": "code",
      "metadata": {
        "colab": {
          "base_uri": "https://localhost:8080/",
          "height": 282
        },
        "id": "9aSwjrJGadcz",
        "outputId": "725d8742-21d4-4d60-9c2b-715acdb61fed"
      },
      "source": [
        "# Amenities # 개수의 차이가 있을까?\n",
        "# print(df_Boston_South_Good['amenities_count'].describe(percentiles=[0.25,0.75]))\n",
        "# print(df_Boston_South_Bad['amenities_count'].describe(percentiles=[0.25,0.75]))\n",
        "\n",
        "amenities_good = df_Boston_South_Good['amenities_count'].median()\n",
        "amenities_bad = df_Boston_South_Bad['amenities_count'].median()\n",
        "amenities_count = {'x':['Good Hosts','Bad Hosts'],'y':[amenities_good,amenities_bad]}\n",
        "\n",
        "#시각화\n",
        "amenities_bar = sns.barplot(x='x', y='y',data=amenities_count)\n",
        "plt.show()\n",
        "\n",
        "#데이터\n",
        "print(amenities_count)"
      ],
      "execution_count": null,
      "outputs": [
        {
          "output_type": "display_data",
          "data": {
            "image/png": "[encoded data removed]",
            "text/plain": [
              "<Figure size 432x288 with 1 Axes>"
            ]
          },
          "metadata": {
            "tags": [],
            "needs_background": "light"
          }
        },
        {
          "output_type": "stream",
          "text": [
            "{'x': ['Good Hosts', 'Bad Hosts'], 'y': [22.0, 19.0]}\n"
          ],
          "name": "stdout"
        }
      ]
    },
    {
      "cell_type": "code",
      "metadata": {
        "id": "apGJjXuVaf9R"
      },
      "source": [
        "# Cancellation Policy\n",
        "# Policy에 따른 다른 것\n",
        "\n",
        "# cancel_good = len(df_Boston_South_Good[df_Boston_South_Good.cancellation_policy==True].count())\n",
        "# cancel_bad = len(df_Boston_South_Bad[df_Boston_South_Bad.cancellation_policy==True].count())\n",
        "# cancel_count = {'x':['Good Hosts','Bad Hosts'],'y':[cancel_good,cancel_bad]}\n",
        "\n",
        "# #시각화\n",
        "# cancel_bar = sns.barplot(x='x', y='y',data=cancel_count)\n",
        "# plt.show()\n",
        "\n",
        "# #데이터\n",
        "# print(cancel_good)\n",
        "# print(cancel_bad)"
      ],
      "execution_count": null,
      "outputs": []
    },
    {
      "cell_type": "code",
      "metadata": {
        "colab": {
          "base_uri": "https://localhost:8080/",
          "height": 282
        },
        "id": "51nWGtRZahz5",
        "outputId": "3d8f3b41-17e5-4990-a441-d1ddbe2bd1cd"
      },
      "source": [
        "# Cleaning Fee\n",
        "clean_good = df_Boston_South_Good[df_Boston_South_Good.cleaning_fee==True].count().cancellation_policy\n",
        "clean_bad = df_Boston_South_Bad[df_Boston_South_Bad.cleaning_fee==True].count().cancellation_policy\n",
        "clean_count = {'x':['Good Hosts','Bad Hosts'],'y':[clean_good,clean_bad]}\n",
        "\n",
        "# #시각화\n",
        "clean_bar = sns.barplot(x='x', y='y',data=clean_count)\n",
        "plt.show()\n",
        "\n",
        "# # 데이터\n",
        "print(clean_count)"
      ],
      "execution_count": null,
      "outputs": [
        {
          "output_type": "display_data",
          "data": {
            "image/png": "[encoded data removed]",
            "text/plain": [
              "<Figure size 432x288 with 1 Axes>"
            ]
          },
          "metadata": {
            "tags": [],
            "needs_background": "light"
          }
        },
        {
          "output_type": "stream",
          "text": [
            "{'x': ['Good Hosts', 'Bad Hosts'], 'y': [188, 160]}\n"
          ],
          "name": "stdout"
        }
      ]
    },
    {
      "cell_type": "code",
      "metadata": {
        "id": "KnUdGVsdalpl"
      },
      "source": [
        "# Description"
      ],
      "execution_count": null,
      "outputs": []
    },
    {
      "cell_type": "code",
      "metadata": {
        "colab": {
          "base_uri": "https://localhost:8080/",
          "height": 282
        },
        "id": "FzL1sXazanux",
        "outputId": "31d1f3c3-7c73-41b6-c7b8-8ebbc3fe3945"
      },
      "source": [
        "# Host Has Profile Pic\n",
        "hostpic_good = df_Boston_South_Good[df_Boston_South_Good.host_has_profile_pic=='t'].count().host_has_profile_pic\n",
        "hostpic_bad = df_Boston_South_Bad[df_Boston_South_Bad.host_has_profile_pic=='t'].count().host_has_profile_pic\n",
        "hostpic_count = {'x':['Good Hosts','Bad Hosts'],'y':[hostpic_good,hostpic_bad]}\n",
        "\n",
        "# #시각화\n",
        "hostpic_bar = sns.barplot(x='x', y='y',data=hostpic_count)\n",
        "plt.show()\n",
        "\n",
        "# # 데이터\n",
        "print(hostpic_count)"
      ],
      "execution_count": null,
      "outputs": [
        {
          "output_type": "display_data",
          "data": {
            "image/png": "[encoded data removed]",
            "text/plain": [
              "<Figure size 432x288 with 1 Axes>"
            ]
          },
          "metadata": {
            "tags": [],
            "needs_background": "light"
          }
        },
        {
          "output_type": "stream",
          "text": [
            "{'x': ['Good Hosts', 'Bad Hosts'], 'y': [207, 211]}\n"
          ],
          "name": "stdout"
        }
      ]
    },
    {
      "cell_type": "code",
      "metadata": {
        "colab": {
          "base_uri": "https://localhost:8080/",
          "height": 285
        },
        "id": "NpK3msOFarF8",
        "outputId": "888f4bed-2a1d-489b-98db-54990f933bf3"
      },
      "source": [
        "# Host Verified\n",
        "hostveri_good = df_Boston_South_Good[df_Boston_South_Good.host_identity_verified=='t'].count().host_identity_verified\n",
        "hostveri_bad = df_Boston_South_Bad[df_Boston_South_Bad.host_identity_verified=='t'].count().host_identity_verified\n",
        "hostveri_count = {'x':['Good Hosts','Bad Hosts'],'y':[hostveri_good,hostveri_bad]}\n",
        "\n",
        "# #시각화\n",
        "hostveri_bar = sns.barplot(x='x', y='y',data=hostveri_count)\n",
        "plt.show()\n",
        "\n",
        "# # 데이터\n",
        "print(hostveri_count)"
      ],
      "execution_count": null,
      "outputs": [
        {
          "output_type": "display_data",
          "data": {
            "image/png": "[encoded data removed]",
            "text/plain": [
              "<Figure size 432x288 with 1 Axes>"
            ]
          },
          "metadata": {
            "tags": [],
            "needs_background": "light"
          }
        },
        {
          "output_type": "stream",
          "text": [
            "{'x': ['Good Hosts', 'Bad Hosts'], 'y': [120, 134]}\n"
          ],
          "name": "stdout"
        }
      ]
    },
    {
      "cell_type": "code",
      "metadata": {
        "colab": {
          "base_uri": "https://localhost:8080/",
          "height": 282
        },
        "id": "KyfsUOgeauE6",
        "outputId": "61fe9ed8-6fb6-499e-f870-270c2a0de52c"
      },
      "source": [
        "# Instant Bookable\n",
        "hostbook_good = df_Boston_South_Good[df_Boston_South_Good.instant_bookable=='t'].count().instant_bookable\n",
        "hostbook_bad = df_Boston_South_Bad[df_Boston_South_Bad.instant_bookable=='t'].count().instant_bookable\n",
        "hostbook_count = {'x':['Good Hosts','Bad Hosts'],'y':[hostbook_good,hostbook_bad]}\n",
        "\n",
        "# #시각화\n",
        "hostbook_bar = sns.barplot(x='x', y='y',data=hostbook_count)\n",
        "plt.show()\n",
        "\n",
        "# # 데이터\n",
        "print(hostbook_count)"
      ],
      "execution_count": null,
      "outputs": [
        {
          "output_type": "display_data",
          "data": {
            "image/png": "[encoded data removed]",
            "text/plain": [
              "<Figure size 432x288 with 1 Axes>"
            ]
          },
          "metadata": {
            "tags": [],
            "needs_background": "light"
          }
        },
        {
          "output_type": "stream",
          "text": [
            "{'x': ['Good Hosts', 'Bad Hosts'], 'y': [103, 57]}\n"
          ],
          "name": "stdout"
        }
      ]
    },
    {
      "cell_type": "code",
      "metadata": {
        "colab": {
          "base_uri": "https://localhost:8080/",
          "height": 282
        },
        "id": "_DWwaV9ya66p",
        "outputId": "0ea63b11-2230-4e54-b364-f9721f48cd9f"
      },
      "source": [
        "# Thumbnail\n",
        "thumb_good = df_Boston_South_Good[df_Boston_South_Good.thumbnail_url!=None].count().thumbnail_url\n",
        "thumb_bad = df_Boston_South_Bad[df_Boston_South_Bad.instant_bookable!=None].count().thumbnail_url\n",
        "thumb_count = {'x':['Good Hosts','Bad Hosts'],'y':[thumb_good,thumb_bad]}\n",
        "\n",
        "# #시각화\n",
        "thumb_bar = sns.barplot(x='x', y='y',data=thumb_count)\n",
        "plt.show()\n",
        "\n",
        "# # 데이터\n",
        "print(thumb_count)"
      ],
      "execution_count": null,
      "outputs": [
        {
          "output_type": "display_data",
          "data": {
            "image/png": "[encoded data removed]",
            "text/plain": [
              "<Figure size 432x288 with 1 Axes>"
            ]
          },
          "metadata": {
            "tags": [],
            "needs_background": "light"
          }
        },
        {
          "output_type": "stream",
          "text": [
            "{'x': ['Good Hosts', 'Bad Hosts'], 'y': [207, 204]}\n"
          ],
          "name": "stdout"
        }
      ]
    },
    {
      "cell_type": "code",
      "metadata": {
        "colab": {
          "base_uri": "https://localhost:8080/",
          "height": 386
        },
        "id": "OeMq4V7Tasts",
        "outputId": "846d78d2-2728-4026-c1d3-66b360c7e32e"
      },
      "source": [
        "# Host Response Rate\n",
        "hostresp_good = df_Boston_South_Good['host_response_rate'].mean()\n",
        "hostresp_bad = df_Boston_South_Bad['host_response_rate'].mean()\n",
        "hostresp_count = {'x':['Good Hosts','Bad Hosts'],'y':[hostresp_good,hostresp_bad]}\n",
        "print(hostresp_good)\n",
        "\n",
        "# #시각화\n",
        "#hostresp_bar = sns.barplot(x='x', y='y',data=hostresp_count)\n",
        "plt.show()\n",
        "\n",
        "# # 데이터\n",
        "print(hostresp_count)"
      ],
      "execution_count": null,
      "outputs": [
        {
          "output_type": "error",
          "ename": "TypeError",
          "evalue": "ignored",
          "traceback": [
            "\u001b[0;31m---------------------------------------------------------------------------\u001b[0m",
            "\u001b[0;31mTypeError\u001b[0m                                 Traceback (most recent call last)",
            "\u001b[0;32m<ipython-input-222-d43bf7ba1641>\u001b[0m in \u001b[0;36m<module>\u001b[0;34m()\u001b[0m\n\u001b[1;32m      1\u001b[0m \u001b[0;31m# Host Response Rate\u001b[0m\u001b[0;34m\u001b[0m\u001b[0;34m\u001b[0m\u001b[0;34m\u001b[0m\u001b[0m\n\u001b[0;32m----> 2\u001b[0;31m \u001b[0mhostresp_good\u001b[0m \u001b[0;34m=\u001b[0m \u001b[0mdf_Boston_South_Good\u001b[0m\u001b[0;34m[\u001b[0m\u001b[0;34m'host_response_rate'\u001b[0m\u001b[0;34m]\u001b[0m\u001b[0;34m.\u001b[0m\u001b[0mmean\u001b[0m\u001b[0;34m(\u001b[0m\u001b[0;34m)\u001b[0m\u001b[0;34m\u001b[0m\u001b[0;34m\u001b[0m\u001b[0m\n\u001b[0m\u001b[1;32m      3\u001b[0m \u001b[0mhostresp_bad\u001b[0m \u001b[0;34m=\u001b[0m \u001b[0mdf_Boston_South_Bad\u001b[0m\u001b[0;34m[\u001b[0m\u001b[0;34m'host_response_rate'\u001b[0m\u001b[0;34m]\u001b[0m\u001b[0;34m.\u001b[0m\u001b[0mmean\u001b[0m\u001b[0;34m(\u001b[0m\u001b[0;34m)\u001b[0m\u001b[0;34m\u001b[0m\u001b[0;34m\u001b[0m\u001b[0m\n\u001b[1;32m      4\u001b[0m \u001b[0mhostresp_count\u001b[0m \u001b[0;34m=\u001b[0m \u001b[0;34m{\u001b[0m\u001b[0;34m'x'\u001b[0m\u001b[0;34m:\u001b[0m\u001b[0;34m[\u001b[0m\u001b[0;34m'Good Hosts'\u001b[0m\u001b[0;34m,\u001b[0m\u001b[0;34m'Bad Hosts'\u001b[0m\u001b[0;34m]\u001b[0m\u001b[0;34m,\u001b[0m\u001b[0;34m'y'\u001b[0m\u001b[0;34m:\u001b[0m\u001b[0;34m[\u001b[0m\u001b[0mhostresp_good\u001b[0m\u001b[0;34m,\u001b[0m\u001b[0mhostresp_bad\u001b[0m\u001b[0;34m]\u001b[0m\u001b[0;34m}\u001b[0m\u001b[0;34m\u001b[0m\u001b[0;34m\u001b[0m\u001b[0m\n\u001b[1;32m      5\u001b[0m \u001b[0mprint\u001b[0m\u001b[0;34m(\u001b[0m\u001b[0mhostresp_good\u001b[0m\u001b[0;34m)\u001b[0m\u001b[0;34m\u001b[0m\u001b[0;34m\u001b[0m\u001b[0m\n",
            "\u001b[0;32m/usr/local/lib/python3.7/dist-packages/pandas/core/generic.py\u001b[0m in \u001b[0;36mstat_func\u001b[0;34m(self, axis, skipna, level, numeric_only, **kwargs)\u001b[0m\n\u001b[1;32m  11473\u001b[0m             \u001b[0;32mreturn\u001b[0m \u001b[0mself\u001b[0m\u001b[0;34m.\u001b[0m\u001b[0m_agg_by_level\u001b[0m\u001b[0;34m(\u001b[0m\u001b[0mname\u001b[0m\u001b[0;34m,\u001b[0m \u001b[0maxis\u001b[0m\u001b[0;34m=\u001b[0m\u001b[0maxis\u001b[0m\u001b[0;34m,\u001b[0m \u001b[0mlevel\u001b[0m\u001b[0;34m=\u001b[0m\u001b[0mlevel\u001b[0m\u001b[0;34m,\u001b[0m \u001b[0mskipna\u001b[0m\u001b[0;34m=\u001b[0m\u001b[0mskipna\u001b[0m\u001b[0;34m)\u001b[0m\u001b[0;34m\u001b[0m\u001b[0;34m\u001b[0m\u001b[0m\n\u001b[1;32m  11474\u001b[0m         return self._reduce(\n\u001b[0;32m> 11475\u001b[0;31m             \u001b[0mfunc\u001b[0m\u001b[0;34m,\u001b[0m \u001b[0mname\u001b[0m\u001b[0;34m=\u001b[0m\u001b[0mname\u001b[0m\u001b[0;34m,\u001b[0m \u001b[0maxis\u001b[0m\u001b[0;34m=\u001b[0m\u001b[0maxis\u001b[0m\u001b[0;34m,\u001b[0m \u001b[0mskipna\u001b[0m\u001b[0;34m=\u001b[0m\u001b[0mskipna\u001b[0m\u001b[0;34m,\u001b[0m \u001b[0mnumeric_only\u001b[0m\u001b[0;34m=\u001b[0m\u001b[0mnumeric_only\u001b[0m\u001b[0;34m\u001b[0m\u001b[0;34m\u001b[0m\u001b[0m\n\u001b[0m\u001b[1;32m  11476\u001b[0m         )\n\u001b[1;32m  11477\u001b[0m \u001b[0;34m\u001b[0m\u001b[0m\n",
            "\u001b[0;32m/usr/local/lib/python3.7/dist-packages/pandas/core/series.py\u001b[0m in \u001b[0;36m_reduce\u001b[0;34m(self, op, name, axis, skipna, numeric_only, filter_type, **kwds)\u001b[0m\n\u001b[1;32m   4247\u001b[0m                 )\n\u001b[1;32m   4248\u001b[0m             \u001b[0;32mwith\u001b[0m \u001b[0mnp\u001b[0m\u001b[0;34m.\u001b[0m\u001b[0merrstate\u001b[0m\u001b[0;34m(\u001b[0m\u001b[0mall\u001b[0m\u001b[0;34m=\u001b[0m\u001b[0;34m\"ignore\"\u001b[0m\u001b[0;34m)\u001b[0m\u001b[0;34m:\u001b[0m\u001b[0;34m\u001b[0m\u001b[0;34m\u001b[0m\u001b[0m\n\u001b[0;32m-> 4249\u001b[0;31m                 \u001b[0;32mreturn\u001b[0m \u001b[0mop\u001b[0m\u001b[0;34m(\u001b[0m\u001b[0mdelegate\u001b[0m\u001b[0;34m,\u001b[0m \u001b[0mskipna\u001b[0m\u001b[0;34m=\u001b[0m\u001b[0mskipna\u001b[0m\u001b[0;34m,\u001b[0m \u001b[0;34m**\u001b[0m\u001b[0mkwds\u001b[0m\u001b[0;34m)\u001b[0m\u001b[0;34m\u001b[0m\u001b[0;34m\u001b[0m\u001b[0m\n\u001b[0m\u001b[1;32m   4250\u001b[0m \u001b[0;34m\u001b[0m\u001b[0m\n\u001b[1;32m   4251\u001b[0m     \u001b[0;32mdef\u001b[0m \u001b[0m_reindex_indexer\u001b[0m\u001b[0;34m(\u001b[0m\u001b[0mself\u001b[0m\u001b[0;34m,\u001b[0m \u001b[0mnew_index\u001b[0m\u001b[0;34m,\u001b[0m \u001b[0mindexer\u001b[0m\u001b[0;34m,\u001b[0m \u001b[0mcopy\u001b[0m\u001b[0;34m)\u001b[0m\u001b[0;34m:\u001b[0m\u001b[0;34m\u001b[0m\u001b[0;34m\u001b[0m\u001b[0m\n",
            "\u001b[0;32m/usr/local/lib/python3.7/dist-packages/pandas/core/nanops.py\u001b[0m in \u001b[0;36m_f\u001b[0;34m(*args, **kwargs)\u001b[0m\n\u001b[1;32m     69\u001b[0m             \u001b[0;32mtry\u001b[0m\u001b[0;34m:\u001b[0m\u001b[0;34m\u001b[0m\u001b[0;34m\u001b[0m\u001b[0m\n\u001b[1;32m     70\u001b[0m                 \u001b[0;32mwith\u001b[0m \u001b[0mnp\u001b[0m\u001b[0;34m.\u001b[0m\u001b[0merrstate\u001b[0m\u001b[0;34m(\u001b[0m\u001b[0minvalid\u001b[0m\u001b[0;34m=\u001b[0m\u001b[0;34m\"ignore\"\u001b[0m\u001b[0;34m)\u001b[0m\u001b[0;34m:\u001b[0m\u001b[0;34m\u001b[0m\u001b[0;34m\u001b[0m\u001b[0m\n\u001b[0;32m---> 71\u001b[0;31m                     \u001b[0;32mreturn\u001b[0m \u001b[0mf\u001b[0m\u001b[0;34m(\u001b[0m\u001b[0;34m*\u001b[0m\u001b[0margs\u001b[0m\u001b[0;34m,\u001b[0m \u001b[0;34m**\u001b[0m\u001b[0mkwargs\u001b[0m\u001b[0;34m)\u001b[0m\u001b[0;34m\u001b[0m\u001b[0;34m\u001b[0m\u001b[0m\n\u001b[0m\u001b[1;32m     72\u001b[0m             \u001b[0;32mexcept\u001b[0m \u001b[0mValueError\u001b[0m \u001b[0;32mas\u001b[0m \u001b[0me\u001b[0m\u001b[0;34m:\u001b[0m\u001b[0;34m\u001b[0m\u001b[0;34m\u001b[0m\u001b[0m\n\u001b[1;32m     73\u001b[0m                 \u001b[0;31m# we want to transform an object array\u001b[0m\u001b[0;34m\u001b[0m\u001b[0;34m\u001b[0m\u001b[0;34m\u001b[0m\u001b[0m\n",
            "\u001b[0;32m/usr/local/lib/python3.7/dist-packages/pandas/core/nanops.py\u001b[0m in \u001b[0;36mf\u001b[0;34m(values, axis, skipna, **kwds)\u001b[0m\n\u001b[1;32m    127\u001b[0m                     \u001b[0mresult\u001b[0m \u001b[0;34m=\u001b[0m \u001b[0malt\u001b[0m\u001b[0;34m(\u001b[0m\u001b[0mvalues\u001b[0m\u001b[0;34m,\u001b[0m \u001b[0maxis\u001b[0m\u001b[0;34m=\u001b[0m\u001b[0maxis\u001b[0m\u001b[0;34m,\u001b[0m \u001b[0mskipna\u001b[0m\u001b[0;34m=\u001b[0m\u001b[0mskipna\u001b[0m\u001b[0;34m,\u001b[0m \u001b[0;34m**\u001b[0m\u001b[0mkwds\u001b[0m\u001b[0;34m)\u001b[0m\u001b[0;34m\u001b[0m\u001b[0;34m\u001b[0m\u001b[0m\n\u001b[1;32m    128\u001b[0m             \u001b[0;32melse\u001b[0m\u001b[0;34m:\u001b[0m\u001b[0;34m\u001b[0m\u001b[0;34m\u001b[0m\u001b[0m\n\u001b[0;32m--> 129\u001b[0;31m                 \u001b[0mresult\u001b[0m \u001b[0;34m=\u001b[0m \u001b[0malt\u001b[0m\u001b[0;34m(\u001b[0m\u001b[0mvalues\u001b[0m\u001b[0;34m,\u001b[0m \u001b[0maxis\u001b[0m\u001b[0;34m=\u001b[0m\u001b[0maxis\u001b[0m\u001b[0;34m,\u001b[0m \u001b[0mskipna\u001b[0m\u001b[0;34m=\u001b[0m\u001b[0mskipna\u001b[0m\u001b[0;34m,\u001b[0m \u001b[0;34m**\u001b[0m\u001b[0mkwds\u001b[0m\u001b[0;34m)\u001b[0m\u001b[0;34m\u001b[0m\u001b[0;34m\u001b[0m\u001b[0m\n\u001b[0m\u001b[1;32m    130\u001b[0m \u001b[0;34m\u001b[0m\u001b[0m\n\u001b[1;32m    131\u001b[0m             \u001b[0;32mreturn\u001b[0m \u001b[0mresult\u001b[0m\u001b[0;34m\u001b[0m\u001b[0;34m\u001b[0m\u001b[0m\n",
            "\u001b[0;32m/usr/local/lib/python3.7/dist-packages/pandas/core/nanops.py\u001b[0m in \u001b[0;36mnanmean\u001b[0;34m(values, axis, skipna, mask)\u001b[0m\n\u001b[1;32m    561\u001b[0m         \u001b[0mdtype_count\u001b[0m \u001b[0;34m=\u001b[0m \u001b[0mdtype\u001b[0m\u001b[0;34m\u001b[0m\u001b[0;34m\u001b[0m\u001b[0m\n\u001b[1;32m    562\u001b[0m     \u001b[0mcount\u001b[0m \u001b[0;34m=\u001b[0m \u001b[0m_get_counts\u001b[0m\u001b[0;34m(\u001b[0m\u001b[0mvalues\u001b[0m\u001b[0;34m.\u001b[0m\u001b[0mshape\u001b[0m\u001b[0;34m,\u001b[0m \u001b[0mmask\u001b[0m\u001b[0;34m,\u001b[0m \u001b[0maxis\u001b[0m\u001b[0;34m,\u001b[0m \u001b[0mdtype\u001b[0m\u001b[0;34m=\u001b[0m\u001b[0mdtype_count\u001b[0m\u001b[0;34m)\u001b[0m\u001b[0;34m\u001b[0m\u001b[0;34m\u001b[0m\u001b[0m\n\u001b[0;32m--> 563\u001b[0;31m     \u001b[0mthe_sum\u001b[0m \u001b[0;34m=\u001b[0m \u001b[0m_ensure_numeric\u001b[0m\u001b[0;34m(\u001b[0m\u001b[0mvalues\u001b[0m\u001b[0;34m.\u001b[0m\u001b[0msum\u001b[0m\u001b[0;34m(\u001b[0m\u001b[0maxis\u001b[0m\u001b[0;34m,\u001b[0m \u001b[0mdtype\u001b[0m\u001b[0;34m=\u001b[0m\u001b[0mdtype_sum\u001b[0m\u001b[0;34m)\u001b[0m\u001b[0;34m)\u001b[0m\u001b[0;34m\u001b[0m\u001b[0;34m\u001b[0m\u001b[0m\n\u001b[0m\u001b[1;32m    564\u001b[0m \u001b[0;34m\u001b[0m\u001b[0m\n\u001b[1;32m    565\u001b[0m     \u001b[0;32mif\u001b[0m \u001b[0maxis\u001b[0m \u001b[0;32mis\u001b[0m \u001b[0;32mnot\u001b[0m \u001b[0;32mNone\u001b[0m \u001b[0;32mand\u001b[0m \u001b[0mgetattr\u001b[0m\u001b[0;34m(\u001b[0m\u001b[0mthe_sum\u001b[0m\u001b[0;34m,\u001b[0m \u001b[0;34m\"ndim\"\u001b[0m\u001b[0;34m,\u001b[0m \u001b[0;32mFalse\u001b[0m\u001b[0;34m)\u001b[0m\u001b[0;34m:\u001b[0m\u001b[0;34m\u001b[0m\u001b[0;34m\u001b[0m\u001b[0m\n",
            "\u001b[0;32m/usr/local/lib/python3.7/dist-packages/numpy/core/_methods.py\u001b[0m in \u001b[0;36m_sum\u001b[0;34m(a, axis, dtype, out, keepdims, initial, where)\u001b[0m\n\u001b[1;32m     45\u001b[0m def _sum(a, axis=None, dtype=None, out=None, keepdims=False,\n\u001b[1;32m     46\u001b[0m          initial=_NoValue, where=True):\n\u001b[0;32m---> 47\u001b[0;31m     \u001b[0;32mreturn\u001b[0m \u001b[0mumr_sum\u001b[0m\u001b[0;34m(\u001b[0m\u001b[0ma\u001b[0m\u001b[0;34m,\u001b[0m \u001b[0maxis\u001b[0m\u001b[0;34m,\u001b[0m \u001b[0mdtype\u001b[0m\u001b[0;34m,\u001b[0m \u001b[0mout\u001b[0m\u001b[0;34m,\u001b[0m \u001b[0mkeepdims\u001b[0m\u001b[0;34m,\u001b[0m \u001b[0minitial\u001b[0m\u001b[0;34m,\u001b[0m \u001b[0mwhere\u001b[0m\u001b[0;34m)\u001b[0m\u001b[0;34m\u001b[0m\u001b[0;34m\u001b[0m\u001b[0m\n\u001b[0m\u001b[1;32m     48\u001b[0m \u001b[0;34m\u001b[0m\u001b[0m\n\u001b[1;32m     49\u001b[0m def _prod(a, axis=None, dtype=None, out=None, keepdims=False,\n",
            "\u001b[0;31mTypeError\u001b[0m: can only concatenate str (not \"int\") to str"
          ]
        }
      ]
    },
    {
      "cell_type": "code",
      "metadata": {
        "id": "FanVZcdtazbZ"
      },
      "source": [
        "# Name"
      ],
      "execution_count": null,
      "outputs": []
    },
    {
      "cell_type": "code",
      "metadata": {
        "id": "sSN1ONeYa4AT"
      },
      "source": [
        "# Neighbourhood"
      ],
      "execution_count": null,
      "outputs": []
    },
    {
      "cell_type": "code",
      "metadata": {
        "id": "Uj_5m44uGvJK"
      },
      "source": [
        ""
      ],
      "execution_count": null,
      "outputs": []
    }
  ]
}